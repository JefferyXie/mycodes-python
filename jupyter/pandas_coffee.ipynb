{
 "cells": [
  {
   "cell_type": "code",
   "execution_count": 387,
   "metadata": {},
   "outputs": [],
   "source": [
    "import pandas as pd\n",
    "%matplotlib inline"
   ]
  },
  {
   "cell_type": "code",
   "execution_count": 388,
   "metadata": {},
   "outputs": [],
   "source": [
    "##################\n",
    "# https://www.youtube.com/watch?v=5XGycFIe8qE\n",
    "##################"
   ]
  },
  {
   "cell_type": "code",
   "execution_count": 389,
   "metadata": {},
   "outputs": [
    {
     "data": {
      "text/html": [
       "<div>\n",
       "<style scoped>\n",
       "    .dataframe tbody tr th:only-of-type {\n",
       "        vertical-align: middle;\n",
       "    }\n",
       "\n",
       "    .dataframe tbody tr th {\n",
       "        vertical-align: top;\n",
       "    }\n",
       "\n",
       "    .dataframe thead th {\n",
       "        text-align: right;\n",
       "    }\n",
       "</style>\n",
       "<table border=\"1\" class=\"dataframe\">\n",
       "  <thead>\n",
       "    <tr style=\"text-align: right;\">\n",
       "      <th></th>\n",
       "      <th>timestamp</th>\n",
       "      <th>coffees</th>\n",
       "      <th>contributor</th>\n",
       "    </tr>\n",
       "  </thead>\n",
       "  <tbody>\n",
       "    <tr>\n",
       "      <th>0</th>\n",
       "      <td>2011-10-03 08:22:00</td>\n",
       "      <td>397.0</td>\n",
       "      <td>Quentin</td>\n",
       "    </tr>\n",
       "    <tr>\n",
       "      <th>1</th>\n",
       "      <td>2011-10-04 11:48:00</td>\n",
       "      <td>410.0</td>\n",
       "      <td>Quentin</td>\n",
       "    </tr>\n",
       "    <tr>\n",
       "      <th>2</th>\n",
       "      <td>2011-10-05 07:02:00</td>\n",
       "      <td>testing</td>\n",
       "      <td>Anthony</td>\n",
       "    </tr>\n",
       "    <tr>\n",
       "      <th>3</th>\n",
       "      <td>2011-10-05 08:25:00</td>\n",
       "      <td>NaN</td>\n",
       "      <td>Quentin</td>\n",
       "    </tr>\n",
       "    <tr>\n",
       "      <th>4</th>\n",
       "      <td>2011-10-05 10:47:00</td>\n",
       "      <td>464.0</td>\n",
       "      <td>Quentin</td>\n",
       "    </tr>\n",
       "  </tbody>\n",
       "</table>\n",
       "</div>"
      ],
      "text/plain": [
       "             timestamp  coffees contributor\n",
       "0  2011-10-03 08:22:00    397.0     Quentin\n",
       "1  2011-10-04 11:48:00    410.0     Quentin\n",
       "2  2011-10-05 07:02:00  testing     Anthony\n",
       "3  2011-10-05 08:25:00      NaN     Quentin\n",
       "4  2011-10-05 10:47:00    464.0     Quentin"
      ]
     },
     "execution_count": 389,
     "metadata": {},
     "output_type": "execute_result"
    }
   ],
   "source": [
    "data = pd.read_csv(\"data/coffees.csv\")\n",
    "data.head()\n",
    "#type(data)"
   ]
  },
  {
   "cell_type": "code",
   "execution_count": 390,
   "metadata": {},
   "outputs": [
    {
     "name": "stdout",
     "output_type": "stream",
     "text": [
      "timestamp      2011-10-05 07:02:00\n",
      "coffees                    testing\n",
      "contributor                Anthony\n",
      "Name: 2, dtype: object\n",
      "timestamp      2011-10-05 07:02:00\n",
      "coffees                    testing\n",
      "contributor                Anthony\n",
      "Name: 2, dtype: object\n",
      "             timestamp  coffees contributor\n",
      "0  2011-10-03 08:22:00    397.0     Quentin\n",
      "1  2011-10-04 11:48:00    410.0     Quentin\n",
      "2  2011-10-05 07:02:00  testing     Anthony\n",
      "3  2011-10-05 08:25:00      NaN     Quentin\n",
      "4  2011-10-05 10:47:00    464.0     Quentin\n",
      "             timestamp  coffees contributor\n",
      "0  2011-10-03 08:22:00    397.0     Quentin\n",
      "1  2011-10-04 11:48:00    410.0     Quentin\n",
      "2  2011-10-05 07:02:00  testing     Anthony\n",
      "3  2011-10-05 08:25:00      NaN     Quentin\n",
      "4  2011-10-05 10:47:00    464.0     Quentin\n"
     ]
    }
   ],
   "source": [
    "# .loc or .iloc??\n",
    "print(data.loc[2])\n",
    "print(data.iloc[2])\n",
    "print(data.iloc[:5])\n",
    "print(data[:5])"
   ]
  },
  {
   "cell_type": "code",
   "execution_count": 391,
   "metadata": {},
   "outputs": [
    {
     "name": "stdout",
     "output_type": "stream",
     "text": [
      "<class 'pandas.core.series.Series'>\n",
      "671\n"
     ]
    }
   ],
   "source": [
    "# [] indexing on a series\n",
    "data.coffees\n",
    "data.coffees[:5]\n",
    "print(type(data.coffees))\n",
    "print(len(data))"
   ]
  },
  {
   "cell_type": "code",
   "execution_count": 392,
   "metadata": {},
   "outputs": [
    {
     "name": "stdout",
     "output_type": "stream",
     "text": [
      "<class 'pandas.core.frame.DataFrame'>\n"
     ]
    },
    {
     "data": {
      "text/html": [
       "<div>\n",
       "<style scoped>\n",
       "    .dataframe tbody tr th:only-of-type {\n",
       "        vertical-align: middle;\n",
       "    }\n",
       "\n",
       "    .dataframe tbody tr th {\n",
       "        vertical-align: top;\n",
       "    }\n",
       "\n",
       "    .dataframe thead th {\n",
       "        text-align: right;\n",
       "    }\n",
       "</style>\n",
       "<table border=\"1\" class=\"dataframe\">\n",
       "  <thead>\n",
       "    <tr style=\"text-align: right;\">\n",
       "      <th></th>\n",
       "      <th>timestamp</th>\n",
       "      <th>coffees</th>\n",
       "      <th>contributor</th>\n",
       "    </tr>\n",
       "  </thead>\n",
       "  <tbody>\n",
       "    <tr>\n",
       "      <th>count</th>\n",
       "      <td>671</td>\n",
       "      <td>658</td>\n",
       "      <td>671</td>\n",
       "    </tr>\n",
       "    <tr>\n",
       "      <th>unique</th>\n",
       "      <td>671</td>\n",
       "      <td>654</td>\n",
       "      <td>9</td>\n",
       "    </tr>\n",
       "    <tr>\n",
       "      <th>top</th>\n",
       "      <td>2012-10-13 12:37:00</td>\n",
       "      <td>13523.0</td>\n",
       "      <td>Quentin</td>\n",
       "    </tr>\n",
       "    <tr>\n",
       "      <th>freq</th>\n",
       "      <td>1</td>\n",
       "      <td>2</td>\n",
       "      <td>367</td>\n",
       "    </tr>\n",
       "  </tbody>\n",
       "</table>\n",
       "</div>"
      ],
      "text/plain": [
       "                  timestamp  coffees contributor\n",
       "count                   671      658         671\n",
       "unique                  671      654           9\n",
       "top     2012-10-13 12:37:00  13523.0     Quentin\n",
       "freq                      1        2         367"
      ]
     },
     "execution_count": 392,
     "metadata": {},
     "output_type": "execute_result"
    }
   ],
   "source": [
    "# .describe()\n",
    "print(type(data.describe()))\n",
    "data.describe()"
   ]
  },
  {
   "cell_type": "code",
   "execution_count": 393,
   "metadata": {},
   "outputs": [
    {
     "name": "stdout",
     "output_type": "stream",
     "text": [
      "<class 'pandas.core.series.Series'>\n"
     ]
    },
    {
     "data": {
      "text/html": [
       "<div>\n",
       "<style scoped>\n",
       "    .dataframe tbody tr th:only-of-type {\n",
       "        vertical-align: middle;\n",
       "    }\n",
       "\n",
       "    .dataframe tbody tr th {\n",
       "        vertical-align: top;\n",
       "    }\n",
       "\n",
       "    .dataframe thead th {\n",
       "        text-align: right;\n",
       "    }\n",
       "</style>\n",
       "<table border=\"1\" class=\"dataframe\">\n",
       "  <thead>\n",
       "    <tr style=\"text-align: right;\">\n",
       "      <th></th>\n",
       "      <th>timestamp</th>\n",
       "      <th>coffees</th>\n",
       "      <th>contributor</th>\n",
       "    </tr>\n",
       "  </thead>\n",
       "  <tbody>\n",
       "    <tr>\n",
       "      <th>3</th>\n",
       "      <td>2011-10-05 08:25:00</td>\n",
       "      <td>NaN</td>\n",
       "      <td>Quentin</td>\n",
       "    </tr>\n",
       "    <tr>\n",
       "      <th>15</th>\n",
       "      <td>2011-10-07 14:10:00</td>\n",
       "      <td>NaN</td>\n",
       "      <td>Ben</td>\n",
       "    </tr>\n",
       "    <tr>\n",
       "      <th>72</th>\n",
       "      <td>2011-10-28 10:53:00</td>\n",
       "      <td>NaN</td>\n",
       "      <td>Mike M</td>\n",
       "    </tr>\n",
       "    <tr>\n",
       "      <th>95</th>\n",
       "      <td>2011-11-11 11:13:00</td>\n",
       "      <td>NaN</td>\n",
       "      <td>Quentin</td>\n",
       "    </tr>\n",
       "    <tr>\n",
       "      <th>323</th>\n",
       "      <td>2012-06-10 16:10:00</td>\n",
       "      <td>NaN</td>\n",
       "      <td>Sergio</td>\n",
       "    </tr>\n",
       "    <tr>\n",
       "      <th>370</th>\n",
       "      <td>2012-07-13 13:59:00</td>\n",
       "      <td>NaN</td>\n",
       "      <td>Mike</td>\n",
       "    </tr>\n",
       "    <tr>\n",
       "      <th>394</th>\n",
       "      <td>2012-08-03 14:35:00</td>\n",
       "      <td>NaN</td>\n",
       "      <td>Sergio</td>\n",
       "    </tr>\n",
       "    <tr>\n",
       "      <th>479</th>\n",
       "      <td>2012-09-21 10:15:00</td>\n",
       "      <td>NaN</td>\n",
       "      <td>Sergio</td>\n",
       "    </tr>\n",
       "    <tr>\n",
       "      <th>562</th>\n",
       "      <td>2012-11-01 09:45:00</td>\n",
       "      <td>NaN</td>\n",
       "      <td>Quentin</td>\n",
       "    </tr>\n",
       "    <tr>\n",
       "      <th>606</th>\n",
       "      <td>2012-11-30 13:11:00</td>\n",
       "      <td>NaN</td>\n",
       "      <td>Quentin</td>\n",
       "    </tr>\n",
       "    <tr>\n",
       "      <th>641</th>\n",
       "      <td>2013-01-28 10:43:00</td>\n",
       "      <td>NaN</td>\n",
       "      <td>Sergio</td>\n",
       "    </tr>\n",
       "    <tr>\n",
       "      <th>642</th>\n",
       "      <td>2013-01-28 13:13:00</td>\n",
       "      <td>NaN</td>\n",
       "      <td>Quentin</td>\n",
       "    </tr>\n",
       "    <tr>\n",
       "      <th>653</th>\n",
       "      <td>2013-02-18 12:04:00</td>\n",
       "      <td>NaN</td>\n",
       "      <td>Quentin</td>\n",
       "    </tr>\n",
       "  </tbody>\n",
       "</table>\n",
       "</div>"
      ],
      "text/plain": [
       "               timestamp coffees contributor\n",
       "3    2011-10-05 08:25:00     NaN     Quentin\n",
       "15   2011-10-07 14:10:00     NaN         Ben\n",
       "72   2011-10-28 10:53:00     NaN      Mike M\n",
       "95   2011-11-11 11:13:00     NaN     Quentin\n",
       "323  2012-06-10 16:10:00     NaN      Sergio\n",
       "370  2012-07-13 13:59:00     NaN        Mike\n",
       "394  2012-08-03 14:35:00     NaN      Sergio\n",
       "479  2012-09-21 10:15:00     NaN      Sergio\n",
       "562  2012-11-01 09:45:00     NaN     Quentin\n",
       "606  2012-11-30 13:11:00     NaN     Quentin\n",
       "641  2013-01-28 10:43:00     NaN      Sergio\n",
       "642  2013-01-28 13:13:00     NaN     Quentin\n",
       "653  2013-02-18 12:04:00     NaN     Quentin"
      ]
     },
     "execution_count": 393,
     "metadata": {},
     "output_type": "execute_result"
    }
   ],
   "source": [
    "# .isnull() and boolean indexing with []\n",
    "data.isnull()\n",
    "print(type(data.coffees.isnull()))\n",
    "data[data.coffees.isnull()]"
   ]
  },
  {
   "cell_type": "code",
   "execution_count": 394,
   "metadata": {},
   "outputs": [
    {
     "name": "stdout",
     "output_type": "stream",
     "text": [
      "timestamp      object\n",
      "coffees        object\n",
      "contributor    object\n",
      "dtype: object\n",
      "<class 'pandas.core.frame.DataFrame'>\n",
      "<class 'str'>\n",
      "<class 'str'>\n",
      "<class 'str'>\n"
     ]
    }
   ],
   "source": [
    "# .dtypes, what type of python objects are the columns?\n",
    "print(data.dtypes)\n",
    "print(type(data))\n",
    "type(data.dtypes)\n",
    "data.dtypes\n",
    "print(type(data.timestamp[0]),\n",
    "      type(data.coffees[0]),\n",
    "      type(data.contributor[0]),\n",
    "      sep='\\n')"
   ]
  },
  {
   "cell_type": "code",
   "execution_count": 395,
   "metadata": {},
   "outputs": [
    {
     "data": {
      "text/html": [
       "<div>\n",
       "<style scoped>\n",
       "    .dataframe tbody tr th:only-of-type {\n",
       "        vertical-align: middle;\n",
       "    }\n",
       "\n",
       "    .dataframe tbody tr th {\n",
       "        vertical-align: top;\n",
       "    }\n",
       "\n",
       "    .dataframe thead th {\n",
       "        text-align: right;\n",
       "    }\n",
       "</style>\n",
       "<table border=\"1\" class=\"dataframe\">\n",
       "  <thead>\n",
       "    <tr style=\"text-align: right;\">\n",
       "      <th></th>\n",
       "      <th>timestamp</th>\n",
       "      <th>coffees</th>\n",
       "      <th>contributor</th>\n",
       "    </tr>\n",
       "  </thead>\n",
       "  <tbody>\n",
       "    <tr>\n",
       "      <th>0</th>\n",
       "      <td>2011-10-03 08:22:00</td>\n",
       "      <td>397.0</td>\n",
       "      <td>Quentin</td>\n",
       "    </tr>\n",
       "    <tr>\n",
       "      <th>1</th>\n",
       "      <td>2011-10-04 11:48:00</td>\n",
       "      <td>410.0</td>\n",
       "      <td>Quentin</td>\n",
       "    </tr>\n",
       "    <tr>\n",
       "      <th>2</th>\n",
       "      <td>2011-10-05 07:02:00</td>\n",
       "      <td>NaN</td>\n",
       "      <td>Anthony</td>\n",
       "    </tr>\n",
       "    <tr>\n",
       "      <th>3</th>\n",
       "      <td>2011-10-05 08:25:00</td>\n",
       "      <td>NaN</td>\n",
       "      <td>Quentin</td>\n",
       "    </tr>\n",
       "    <tr>\n",
       "      <th>4</th>\n",
       "      <td>2011-10-05 10:47:00</td>\n",
       "      <td>464.0</td>\n",
       "      <td>Quentin</td>\n",
       "    </tr>\n",
       "  </tbody>\n",
       "</table>\n",
       "</div>"
      ],
      "text/plain": [
       "             timestamp  coffees contributor\n",
       "0  2011-10-03 08:22:00    397.0     Quentin\n",
       "1  2011-10-04 11:48:00    410.0     Quentin\n",
       "2  2011-10-05 07:02:00      NaN     Anthony\n",
       "3  2011-10-05 08:25:00      NaN     Quentin\n",
       "4  2011-10-05 10:47:00    464.0     Quentin"
      ]
     },
     "execution_count": 395,
     "metadata": {},
     "output_type": "execute_result"
    }
   ],
   "source": [
    "# cast coffees column using pd.to_numeric, and coerce errors\n",
    "data.coffees = pd.to_numeric(data.coffees, errors = \"coerce\")\n",
    "data.head()"
   ]
  },
  {
   "cell_type": "code",
   "execution_count": 396,
   "metadata": {},
   "outputs": [
    {
     "data": {
      "text/plain": [
       "Int64Index([  0,   1,   4,   5,   6,   7,   8,   9,  10,  11,\n",
       "            ...\n",
       "            661, 662, 663, 664, 665, 666, 667, 668, 669, 670],\n",
       "           dtype='int64', length=657)"
      ]
     },
     "execution_count": 396,
     "metadata": {},
     "output_type": "execute_result"
    }
   ],
   "source": [
    "# coffees colum contains NaN\n",
    "# .dropna() using a subset, and pass inplace\n",
    "data.dropna()\n",
    "data.dropna(inplace=True)\n",
    "data = data.dropna() # same effect as above line\n",
    "data.head()\n",
    "data.index"
   ]
  },
  {
   "cell_type": "code",
   "execution_count": 397,
   "metadata": {},
   "outputs": [
    {
     "name": "stdout",
     "output_type": "stream",
     "text": [
      "timestamp      datetime64[ns]\n",
      "coffees                 int32\n",
      "contributor            object\n",
      "dtype: object\n"
     ]
    },
    {
     "data": {
      "text/html": [
       "<div>\n",
       "<style scoped>\n",
       "    .dataframe tbody tr th:only-of-type {\n",
       "        vertical-align: middle;\n",
       "    }\n",
       "\n",
       "    .dataframe tbody tr th {\n",
       "        vertical-align: top;\n",
       "    }\n",
       "\n",
       "    .dataframe thead th {\n",
       "        text-align: right;\n",
       "    }\n",
       "</style>\n",
       "<table border=\"1\" class=\"dataframe\">\n",
       "  <thead>\n",
       "    <tr style=\"text-align: right;\">\n",
       "      <th></th>\n",
       "      <th>timestamp</th>\n",
       "      <th>coffees</th>\n",
       "      <th>contributor</th>\n",
       "    </tr>\n",
       "  </thead>\n",
       "  <tbody>\n",
       "    <tr>\n",
       "      <th>666</th>\n",
       "      <td>2013-03-12 08:28:00</td>\n",
       "      <td>18235</td>\n",
       "      <td>Sergio</td>\n",
       "    </tr>\n",
       "    <tr>\n",
       "      <th>667</th>\n",
       "      <td>2013-04-05 11:20:00</td>\n",
       "      <td>18942</td>\n",
       "      <td>Sergio</td>\n",
       "    </tr>\n",
       "    <tr>\n",
       "      <th>668</th>\n",
       "      <td>2013-04-27 11:04:00</td>\n",
       "      <td>19698</td>\n",
       "      <td>Sergio</td>\n",
       "    </tr>\n",
       "    <tr>\n",
       "      <th>669</th>\n",
       "      <td>2013-09-12 15:38:00</td>\n",
       "      <td>24450</td>\n",
       "      <td>Quentin</td>\n",
       "    </tr>\n",
       "    <tr>\n",
       "      <th>670</th>\n",
       "      <td>2013-09-13 10:28:00</td>\n",
       "      <td>24463</td>\n",
       "      <td>Quentin</td>\n",
       "    </tr>\n",
       "  </tbody>\n",
       "</table>\n",
       "</div>"
      ],
      "text/plain": [
       "              timestamp  coffees contributor\n",
       "666 2013-03-12 08:28:00    18235      Sergio\n",
       "667 2013-04-05 11:20:00    18942      Sergio\n",
       "668 2013-04-27 11:04:00    19698      Sergio\n",
       "669 2013-09-12 15:38:00    24450     Quentin\n",
       "670 2013-09-13 10:28:00    24463     Quentin"
      ]
     },
     "execution_count": 397,
     "metadata": {},
     "output_type": "execute_result"
    }
   ],
   "source": [
    "# .astype() cast float type to int\n",
    "data.coffees = data.coffees.astype(int)\n",
    "# .to_datetime() parse string to datetime object\n",
    "data.timestamp = pd.to_datetime(data.timestamp)\n",
    "print(data.dtypes)\n",
    "data.head()\n",
    "data.tail()"
   ]
  },
  {
   "cell_type": "code",
   "execution_count": 398,
   "metadata": {},
   "outputs": [
    {
     "data": {
      "text/html": [
       "<div>\n",
       "<style scoped>\n",
       "    .dataframe tbody tr th:only-of-type {\n",
       "        vertical-align: middle;\n",
       "    }\n",
       "\n",
       "    .dataframe tbody tr th {\n",
       "        vertical-align: top;\n",
       "    }\n",
       "\n",
       "    .dataframe thead th {\n",
       "        text-align: right;\n",
       "    }\n",
       "</style>\n",
       "<table border=\"1\" class=\"dataframe\">\n",
       "  <thead>\n",
       "    <tr style=\"text-align: right;\">\n",
       "      <th></th>\n",
       "      <th>timestamp</th>\n",
       "      <th>coffees</th>\n",
       "      <th>contributor</th>\n",
       "    </tr>\n",
       "  </thead>\n",
       "  <tbody>\n",
       "    <tr>\n",
       "      <th>count</th>\n",
       "      <td>657</td>\n",
       "      <td>657.000000</td>\n",
       "      <td>657</td>\n",
       "    </tr>\n",
       "    <tr>\n",
       "      <th>unique</th>\n",
       "      <td>657</td>\n",
       "      <td>NaN</td>\n",
       "      <td>9</td>\n",
       "    </tr>\n",
       "    <tr>\n",
       "      <th>top</th>\n",
       "      <td>2011-10-24 14:32:00</td>\n",
       "      <td>NaN</td>\n",
       "      <td>Quentin</td>\n",
       "    </tr>\n",
       "    <tr>\n",
       "      <th>freq</th>\n",
       "      <td>1</td>\n",
       "      <td>NaN</td>\n",
       "      <td>361</td>\n",
       "    </tr>\n",
       "    <tr>\n",
       "      <th>first</th>\n",
       "      <td>2011-10-03 08:22:00</td>\n",
       "      <td>NaN</td>\n",
       "      <td>NaN</td>\n",
       "    </tr>\n",
       "    <tr>\n",
       "      <th>last</th>\n",
       "      <td>2013-09-13 10:28:00</td>\n",
       "      <td>NaN</td>\n",
       "      <td>NaN</td>\n",
       "    </tr>\n",
       "    <tr>\n",
       "      <th>mean</th>\n",
       "      <td>NaN</td>\n",
       "      <td>8568.471842</td>\n",
       "      <td>NaN</td>\n",
       "    </tr>\n",
       "    <tr>\n",
       "      <th>std</th>\n",
       "      <td>NaN</td>\n",
       "      <td>4600.215049</td>\n",
       "      <td>NaN</td>\n",
       "    </tr>\n",
       "    <tr>\n",
       "      <th>min</th>\n",
       "      <td>NaN</td>\n",
       "      <td>397.000000</td>\n",
       "      <td>NaN</td>\n",
       "    </tr>\n",
       "    <tr>\n",
       "      <th>25%</th>\n",
       "      <td>NaN</td>\n",
       "      <td>4986.000000</td>\n",
       "      <td>NaN</td>\n",
       "    </tr>\n",
       "    <tr>\n",
       "      <th>50%</th>\n",
       "      <td>NaN</td>\n",
       "      <td>9172.000000</td>\n",
       "      <td>NaN</td>\n",
       "    </tr>\n",
       "    <tr>\n",
       "      <th>75%</th>\n",
       "      <td>NaN</td>\n",
       "      <td>11562.000000</td>\n",
       "      <td>NaN</td>\n",
       "    </tr>\n",
       "    <tr>\n",
       "      <th>max</th>\n",
       "      <td>NaN</td>\n",
       "      <td>24463.000000</td>\n",
       "      <td>NaN</td>\n",
       "    </tr>\n",
       "  </tbody>\n",
       "</table>\n",
       "</div>"
      ],
      "text/plain": [
       "                  timestamp       coffees contributor\n",
       "count                   657    657.000000         657\n",
       "unique                  657           NaN           9\n",
       "top     2011-10-24 14:32:00           NaN     Quentin\n",
       "freq                      1           NaN         361\n",
       "first   2011-10-03 08:22:00           NaN         NaN\n",
       "last    2013-09-13 10:28:00           NaN         NaN\n",
       "mean                    NaN   8568.471842         NaN\n",
       "std                     NaN   4600.215049         NaN\n",
       "min                     NaN    397.000000         NaN\n",
       "25%                     NaN   4986.000000         NaN\n",
       "50%                     NaN   9172.000000         NaN\n",
       "75%                     NaN  11562.000000         NaN\n",
       "max                     NaN  24463.000000         NaN"
      ]
     },
     "execution_count": 398,
     "metadata": {},
     "output_type": "execute_result"
    }
   ],
   "source": [
    "data.describe() # find the first numeric column\n",
    "# .describe(), passing the include kwarg to see all info\n",
    "data.describe(include='all')"
   ]
  },
  {
   "cell_type": "code",
   "execution_count": 399,
   "metadata": {},
   "outputs": [
    {
     "data": {
      "text/plain": [
       "<matplotlib.axes._subplots.AxesSubplot at 0x26fe8fe8e48>"
      ]
     },
     "execution_count": 399,
     "metadata": {},
     "output_type": "execute_result"
    },
    {
     "data": {
      "image/png": "[encoded data removed]",
      "text/plain": [
       "<Figure size 432x288 with 1 Axes>"
      ]
     },
     "metadata": {},
     "output_type": "display_data"
    },
    {
     "data": {
      "image/png": "[encoded data removed]",
      "text/plain": [
       "<Figure size 432x288 with 1 Axes>"
      ]
     },
     "metadata": {},
     "output_type": "display_data"
    }
   ],
   "source": [
    "# .plot() on the coffee series\n",
    "# pandas is plotting the coffees against the index, which is\n",
    "# just a series of integers\n",
    "data.coffees.plot()\n",
    "# specify timestamp as x-axis\n",
    "data.plot(x = 'timestamp', y = 'coffees', style='rx')"
   ]
  },
  {
   "cell_type": "code",
   "execution_count": 400,
   "metadata": {},
   "outputs": [
    {
     "data": {
      "text/plain": [
       "<matplotlib.axes._subplots.AxesSubplot at 0x26fe8fd0f60>"
      ]
     },
     "execution_count": 400,
     "metadata": {},
     "output_type": "execute_result"
    },
    {
     "data": {
      "image/png": "[encoded data removed]",
      "text/plain": [
       "<Figure size 864x432 with 1 Axes>"
      ]
     },
     "metadata": {},
     "output_type": "display_data"
    }
   ],
   "source": [
    "# cut off the tail of the time series\n",
    "data[data.timestamp < '2013-03-01'].tail()\n",
    "data.plot(x='timestamp', style='.-', figsize=(12, 6))"
   ]
  },
  {
   "cell_type": "code",
   "execution_count": 401,
   "metadata": {},
   "outputs": [
    {
     "data": {
      "image/png": "[encoded data removed]",
      "text/plain": [
       "<Figure size 432x288 with 1 Axes>"
      ]
     },
     "metadata": {},
     "output_type": "display_data"
    },
    {
     "data": {
      "image/png": "[encoded data removed]",
      "text/plain": [
       "<Figure size 432x288 with 1 Axes>"
      ]
     },
     "metadata": {},
     "output_type": "display_data"
    },
    {
     "data": {
      "image/png": "[encoded data removed]",
      "text/plain": [
       "<Figure size 432x288 with 1 Axes>"
      ]
     },
     "metadata": {},
     "output_type": "display_data"
    },
    {
     "data": {
      "image/png": "[encoded data removed]",
      "text/plain": [
       "<Figure size 432x288 with 1 Axes>"
      ]
     },
     "metadata": {},
     "output_type": "display_data"
    },
    {
     "data": {
      "text/plain": [
       "<Figure size 432x288 with 0 Axes>"
      ]
     },
     "metadata": {},
     "output_type": "display_data"
    }
   ],
   "source": [
    "# .value_counts()\n",
    "data.contributor.value_counts() # series' index is name\n",
    "\n",
    "# by default the two plots will be shown in one figure\n",
    "data.contributor.value_counts().plot(kind='bar')\n",
    "data.contributor.value_counts().plot(kind='barh')\n",
    "\n",
    "# make two plots separate figures\n",
    "import matplotlib.pyplot as plt\n",
    "plt.figure()\n",
    "data.contributor.value_counts().plot(kind='bar')\n",
    "plt.figure()\n",
    "data.contributor.value_counts().plot(kind='barh')\n",
    "plt.show()\n",
    "\n",
    "# set ax=.. to enface two plots in one figure\n",
    "plt.figure()\n",
    "ax_1 = data.contributor.value_counts().plot(kind='bar')\n",
    "plt.figure()\n",
    "data.contributor.value_counts().plot(kind='barh', ax=ax_1)\n",
    "plt.show()"
   ]
  },
  {
   "cell_type": "code",
   "execution_count": 402,
   "metadata": {},
   "outputs": [],
   "source": [
    "# on which weekdays were contributions made?\n",
    "# .dt.weekday apply for each data.timestamp\n",
    "weekdays = data.timestamp.dt.weekday"
   ]
  },
  {
   "cell_type": "code",
   "execution_count": 403,
   "metadata": {},
   "outputs": [
    {
     "data": {
      "text/html": [
       "<div>\n",
       "<style scoped>\n",
       "    .dataframe tbody tr th:only-of-type {\n",
       "        vertical-align: middle;\n",
       "    }\n",
       "\n",
       "    .dataframe tbody tr th {\n",
       "        vertical-align: top;\n",
       "    }\n",
       "\n",
       "    .dataframe thead th {\n",
       "        text-align: right;\n",
       "    }\n",
       "</style>\n",
       "<table border=\"1\" class=\"dataframe\">\n",
       "  <thead>\n",
       "    <tr style=\"text-align: right;\">\n",
       "      <th></th>\n",
       "      <th>timestamp</th>\n",
       "      <th>coffees</th>\n",
       "      <th>contributor</th>\n",
       "      <th>weekdays</th>\n",
       "    </tr>\n",
       "  </thead>\n",
       "  <tbody>\n",
       "    <tr>\n",
       "      <th>0</th>\n",
       "      <td>2011-10-03 08:22:00</td>\n",
       "      <td>397</td>\n",
       "      <td>Quentin</td>\n",
       "      <td>0</td>\n",
       "    </tr>\n",
       "    <tr>\n",
       "      <th>1</th>\n",
       "      <td>2011-10-04 11:48:00</td>\n",
       "      <td>410</td>\n",
       "      <td>Quentin</td>\n",
       "      <td>1</td>\n",
       "    </tr>\n",
       "    <tr>\n",
       "      <th>4</th>\n",
       "      <td>2011-10-05 10:47:00</td>\n",
       "      <td>464</td>\n",
       "      <td>Quentin</td>\n",
       "      <td>2</td>\n",
       "    </tr>\n",
       "    <tr>\n",
       "      <th>5</th>\n",
       "      <td>2011-10-05 13:15:00</td>\n",
       "      <td>481</td>\n",
       "      <td>Quentin</td>\n",
       "      <td>2</td>\n",
       "    </tr>\n",
       "    <tr>\n",
       "      <th>6</th>\n",
       "      <td>2011-10-06 07:21:00</td>\n",
       "      <td>503</td>\n",
       "      <td>Anthony</td>\n",
       "      <td>3</td>\n",
       "    </tr>\n",
       "  </tbody>\n",
       "</table>\n",
       "</div>"
      ],
      "text/plain": [
       "            timestamp  coffees contributor  weekdays\n",
       "0 2011-10-03 08:22:00      397     Quentin         0\n",
       "1 2011-10-04 11:48:00      410     Quentin         1\n",
       "4 2011-10-05 10:47:00      464     Quentin         2\n",
       "5 2011-10-05 13:15:00      481     Quentin         2\n",
       "6 2011-10-06 07:21:00      503     Anthony         3"
      ]
     },
     "execution_count": 403,
     "metadata": {},
     "output_type": "execute_result"
    }
   ],
   "source": [
    "# .assign() it to the dataframe\n",
    "data = data.assign(weekdays = weekdays)\n",
    "data.head()"
   ]
  },
  {
   "cell_type": "code",
   "execution_count": 404,
   "metadata": {},
   "outputs": [
    {
     "data": {
      "text/plain": [
       "'Wed'"
      ]
     },
     "execution_count": 404,
     "metadata": {},
     "output_type": "execute_result"
    }
   ],
   "source": [
    "# replace integers with actual weekdays\n",
    "weekday_names = ['Mon', 'Tue', 'Wed', 'Thu', 'Fri', 'Sat', 'Sun']\n",
    "weekday_dict  = {key: weekday_names[key] for key in range(7)}\n",
    "\n",
    "def day_of_week(idx):\n",
    "    return weekday_dict[idx]\n",
    "\n",
    "day_of_week(2)"
   ]
  },
  {
   "cell_type": "code",
   "execution_count": 405,
   "metadata": {},
   "outputs": [
    {
     "data": {
      "text/html": [
       "<div>\n",
       "<style scoped>\n",
       "    .dataframe tbody tr th:only-of-type {\n",
       "        vertical-align: middle;\n",
       "    }\n",
       "\n",
       "    .dataframe tbody tr th {\n",
       "        vertical-align: top;\n",
       "    }\n",
       "\n",
       "    .dataframe thead th {\n",
       "        text-align: right;\n",
       "    }\n",
       "</style>\n",
       "<table border=\"1\" class=\"dataframe\">\n",
       "  <thead>\n",
       "    <tr style=\"text-align: right;\">\n",
       "      <th></th>\n",
       "      <th>timestamp</th>\n",
       "      <th>coffees</th>\n",
       "      <th>contributor</th>\n",
       "      <th>weekdays</th>\n",
       "    </tr>\n",
       "  </thead>\n",
       "  <tbody>\n",
       "    <tr>\n",
       "      <th>0</th>\n",
       "      <td>2011-10-03 08:22:00</td>\n",
       "      <td>397</td>\n",
       "      <td>Quentin</td>\n",
       "      <td>Mon</td>\n",
       "    </tr>\n",
       "    <tr>\n",
       "      <th>1</th>\n",
       "      <td>2011-10-04 11:48:00</td>\n",
       "      <td>410</td>\n",
       "      <td>Quentin</td>\n",
       "      <td>Tue</td>\n",
       "    </tr>\n",
       "    <tr>\n",
       "      <th>4</th>\n",
       "      <td>2011-10-05 10:47:00</td>\n",
       "      <td>464</td>\n",
       "      <td>Quentin</td>\n",
       "      <td>Wed</td>\n",
       "    </tr>\n",
       "    <tr>\n",
       "      <th>5</th>\n",
       "      <td>2011-10-05 13:15:00</td>\n",
       "      <td>481</td>\n",
       "      <td>Quentin</td>\n",
       "      <td>Wed</td>\n",
       "    </tr>\n",
       "    <tr>\n",
       "      <th>6</th>\n",
       "      <td>2011-10-06 07:21:00</td>\n",
       "      <td>503</td>\n",
       "      <td>Anthony</td>\n",
       "      <td>Thu</td>\n",
       "    </tr>\n",
       "  </tbody>\n",
       "</table>\n",
       "</div>"
      ],
      "text/plain": [
       "            timestamp  coffees contributor weekdays\n",
       "0 2011-10-03 08:22:00      397     Quentin      Mon\n",
       "1 2011-10-04 11:48:00      410     Quentin      Tue\n",
       "4 2011-10-05 10:47:00      464     Quentin      Wed\n",
       "5 2011-10-05 13:15:00      481     Quentin      Wed\n",
       "6 2011-10-06 07:21:00      503     Anthony      Thu"
      ]
     },
     "execution_count": 405,
     "metadata": {},
     "output_type": "execute_result"
    }
   ],
   "source": [
    "\n",
    "# .apply() to apply a custom function to the weekdays column\n",
    "data.weekdays.apply(day_of_week)\n",
    "data.head()\n",
    "\n",
    "# using lambda than explict function\n",
    "data.weekdays = data.weekdays.apply(lambda x: weekday_dict[x])\n",
    "data.head()"
   ]
  },
  {
   "cell_type": "code",
   "execution_count": 406,
   "metadata": {},
   "outputs": [
    {
     "name": "stdout",
     "output_type": "stream",
     "text": [
      "          timestamp  coffees  contributor\n",
      "weekdays                                 \n",
      "Fri             117      117          117\n",
      "Mon             148      148          148\n",
      "Sat              30       30           30\n",
      "Sun              13       13           13\n",
      "Thu             118      118          118\n",
      "Tue             100      100          100\n",
      "Wed             131      131          131\n",
      "          timestamp  coffees  contributor\n",
      "weekdays                                 \n",
      "Mon             148      148          148\n",
      "Sat              30       30           30\n",
      "Sun              13       13           13\n",
      "Thu             118      118          118\n",
      "Tue             100      100          100\n",
      "timestamp      148\n",
      "coffees        148\n",
      "contributor    148\n",
      "Name: Mon, dtype: int64\n",
      "          timestamp  coffees  contributor\n",
      "weekdays                                 \n",
      "Mon             148      148          148\n",
      "Tue             100      100          100\n",
      "Wed             131      131          131\n",
      "Thu             118      118          118\n",
      "Fri             117      117          117\n",
      "Sat              30       30           30\n",
      "Sun              13       13           13\n"
     ]
    },
    {
     "data": {
      "text/plain": [
       "<matplotlib.axes._subplots.AxesSubplot at 0x26fe9184b70>"
      ]
     },
     "execution_count": 406,
     "metadata": {},
     "output_type": "execute_result"
    },
    {
     "data": {
      "text/plain": [
       "<Figure size 432x288 with 0 Axes>"
      ]
     },
     "metadata": {},
     "output_type": "display_data"
    },
    {
     "data": {
      "image/png": "[encoded data removed]",
      "text/plain": [
       "<Figure size 432x288 with 1 Axes>"
      ]
     },
     "metadata": {},
     "output_type": "display_data"
    },
    {
     "data": {
      "image/png": "[encoded data removed]",
      "text/plain": [
       "<Figure size 432x288 with 1 Axes>"
      ]
     },
     "metadata": {},
     "output_type": "display_data"
    }
   ],
   "source": [
    "#.groupby() the weekdays and then .count() rows in each group\n",
    "# DataFrameGroupBy object, .count() gives DataFrame\n",
    "weekday_counts = data.groupby('weekdays').count()\n",
    "# DataFrame with index as 'weekdays'\n",
    "print(weekday_counts)\n",
    "\n",
    "# access DataFrame by index range\n",
    "print(weekday_counts['Mon':'Tue'])\n",
    "\n",
    "# .loc[] to access DataFrame's specific entry by index\n",
    "print(weekday_counts.loc['Mon'])\n",
    "weekday_counts.loc['Mon', ['coffees', 'contributor']]\n",
    "weekday_counts.loc[['Mon', 'Wed'], ['coffees', 'contributor']]\n",
    "\n",
    "# .loc[] reorder DataFrame by weekday_names list\n",
    "weekday_counts = weekday_counts.loc[weekday_names]\n",
    "print(weekday_counts)\n",
    "plt.figure()\n",
    "weekday_counts.plot(kind='bar')\n",
    "plt.figure()\n",
    "weekday_counts.coffees.plot(kind='bar')\n",
    "# this won't work!!\n",
    "#weekday_counts[weekday_names]"
   ]
  },
  {
   "cell_type": "code",
   "execution_count": 407,
   "metadata": {},
   "outputs": [
    {
     "data": {
      "text/plain": [
       "DatetimeIndex(['2011-10-03 08:22:00', '2011-10-04 11:48:00',\n",
       "               '2011-10-05 10:47:00', '2011-10-05 13:15:00',\n",
       "               '2011-10-06 07:21:00', '2011-10-06 10:04:00',\n",
       "               '2011-10-06 12:14:00', '2011-10-06 12:49:00',\n",
       "               '2011-10-06 14:52:00', '2011-10-07 07:34:00',\n",
       "               ...\n",
       "               '2013-03-04 11:12:00', '2013-03-04 16:43:00',\n",
       "               '2013-03-05 10:42:00', '2013-03-05 13:29:00',\n",
       "               '2013-03-08 10:28:00', '2013-03-12 08:28:00',\n",
       "               '2013-04-05 11:20:00', '2013-04-27 11:04:00',\n",
       "               '2013-09-12 15:38:00', '2013-09-13 10:28:00'],\n",
       "              dtype='datetime64[ns]', name='timestamp', length=657, freq=None)"
      ]
     },
     "execution_count": 407,
     "metadata": {},
     "output_type": "execute_result"
    }
   ],
   "source": [
    "data.index\n",
    "# set timestamps to the dataframe's index\n",
    "# set dataframe's .index property\n",
    "data.index = data.timestamp\n",
    "data.index"
   ]
  },
  {
   "cell_type": "code",
   "execution_count": 408,
   "metadata": {},
   "outputs": [
    {
     "data": {
      "text/html": [
       "<div>\n",
       "<style scoped>\n",
       "    .dataframe tbody tr th:only-of-type {\n",
       "        vertical-align: middle;\n",
       "    }\n",
       "\n",
       "    .dataframe tbody tr th {\n",
       "        vertical-align: top;\n",
       "    }\n",
       "\n",
       "    .dataframe thead th {\n",
       "        text-align: right;\n",
       "    }\n",
       "</style>\n",
       "<table border=\"1\" class=\"dataframe\">\n",
       "  <thead>\n",
       "    <tr style=\"text-align: right;\">\n",
       "      <th></th>\n",
       "      <th>coffees</th>\n",
       "      <th>contributor</th>\n",
       "      <th>weekdays</th>\n",
       "    </tr>\n",
       "    <tr>\n",
       "      <th>timestamp</th>\n",
       "      <th></th>\n",
       "      <th></th>\n",
       "      <th></th>\n",
       "    </tr>\n",
       "  </thead>\n",
       "  <tbody>\n",
       "    <tr>\n",
       "      <th>2011-10-03 08:22:00</th>\n",
       "      <td>397</td>\n",
       "      <td>Quentin</td>\n",
       "      <td>Mon</td>\n",
       "    </tr>\n",
       "    <tr>\n",
       "      <th>2011-10-04 11:48:00</th>\n",
       "      <td>410</td>\n",
       "      <td>Quentin</td>\n",
       "      <td>Tue</td>\n",
       "    </tr>\n",
       "    <tr>\n",
       "      <th>2011-10-05 10:47:00</th>\n",
       "      <td>464</td>\n",
       "      <td>Quentin</td>\n",
       "      <td>Wed</td>\n",
       "    </tr>\n",
       "    <tr>\n",
       "      <th>2011-10-05 13:15:00</th>\n",
       "      <td>481</td>\n",
       "      <td>Quentin</td>\n",
       "      <td>Wed</td>\n",
       "    </tr>\n",
       "    <tr>\n",
       "      <th>2011-10-06 07:21:00</th>\n",
       "      <td>503</td>\n",
       "      <td>Anthony</td>\n",
       "      <td>Thu</td>\n",
       "    </tr>\n",
       "  </tbody>\n",
       "</table>\n",
       "</div>"
      ],
      "text/plain": [
       "                     coffees contributor weekdays\n",
       "timestamp                                        \n",
       "2011-10-03 08:22:00      397     Quentin      Mon\n",
       "2011-10-04 11:48:00      410     Quentin      Tue\n",
       "2011-10-05 10:47:00      464     Quentin      Wed\n",
       "2011-10-05 13:15:00      481     Quentin      Wed\n",
       "2011-10-06 07:21:00      503     Anthony      Thu"
      ]
     },
     "execution_count": 408,
     "metadata": {},
     "output_type": "execute_result"
    }
   ],
   "source": [
    "data.head()\n",
    "# drop the timestamp column\n",
    "# dataframe has to have an index, so assign index before drop\n",
    "# axis=1 means drop the column, by default it's 0 meaning row\n",
    "data.drop(['timestamp'], axis=1, inplace=True)\n",
    "data.head()"
   ]
  },
  {
   "cell_type": "code",
   "execution_count": 409,
   "metadata": {},
   "outputs": [
    {
     "name": "stdout",
     "output_type": "stream",
     "text": [
      "DatetimeIndex(['2011-10-03', '2011-10-04', '2011-10-05', '2011-10-06',\n",
      "               '2011-10-07', '2011-10-08', '2011-10-09', '2011-10-10',\n",
      "               '2011-10-11', '2011-10-12',\n",
      "               ...\n",
      "               '2013-09-04', '2013-09-05', '2013-09-06', '2013-09-07',\n",
      "               '2013-09-08', '2013-09-09', '2013-09-10', '2013-09-11',\n",
      "               '2013-09-12', '2013-09-13'],\n",
      "              dtype='datetime64[ns]', length=712, freq='D')\n"
     ]
    }
   ],
   "source": [
    "# add some rows on every day to the dataframe\n",
    "# pd.date_range, with daily frequency, and normalization\n",
    "# help(pd.date_range) # return a fixed frequency DatatimeIndex\n",
    "midnights = pd.date_range(data.index[0], data.index[-1], freq='D', normalize=True)\n",
    "print(midnights)"
   ]
  },
  {
   "cell_type": "code",
   "execution_count": 410,
   "metadata": {},
   "outputs": [],
   "source": [
    "# .union take the union of existing and new index\n",
    "#help(midnights.union)\n",
    "new_index = midnights.union(data.index)"
   ]
  },
  {
   "cell_type": "code",
   "execution_count": 411,
   "metadata": {},
   "outputs": [
    {
     "data": {
      "text/html": [
       "<div>\n",
       "<style scoped>\n",
       "    .dataframe tbody tr th:only-of-type {\n",
       "        vertical-align: middle;\n",
       "    }\n",
       "\n",
       "    .dataframe tbody tr th {\n",
       "        vertical-align: top;\n",
       "    }\n",
       "\n",
       "    .dataframe thead th {\n",
       "        text-align: right;\n",
       "    }\n",
       "</style>\n",
       "<table border=\"1\" class=\"dataframe\">\n",
       "  <thead>\n",
       "    <tr style=\"text-align: right;\">\n",
       "      <th></th>\n",
       "      <th>coffees</th>\n",
       "      <th>contributor</th>\n",
       "      <th>weekdays</th>\n",
       "    </tr>\n",
       "  </thead>\n",
       "  <tbody>\n",
       "    <tr>\n",
       "      <th>2011-10-03 00:00:00</th>\n",
       "      <td>123.0</td>\n",
       "      <td>123</td>\n",
       "      <td>123</td>\n",
       "    </tr>\n",
       "    <tr>\n",
       "      <th>2011-10-03 08:22:00</th>\n",
       "      <td>397.0</td>\n",
       "      <td>Quentin</td>\n",
       "      <td>Mon</td>\n",
       "    </tr>\n",
       "    <tr>\n",
       "      <th>2011-10-04 00:00:00</th>\n",
       "      <td>123.0</td>\n",
       "      <td>123</td>\n",
       "      <td>123</td>\n",
       "    </tr>\n",
       "    <tr>\n",
       "      <th>2011-10-04 11:48:00</th>\n",
       "      <td>410.0</td>\n",
       "      <td>Quentin</td>\n",
       "      <td>Tue</td>\n",
       "    </tr>\n",
       "    <tr>\n",
       "      <th>2011-10-05 00:00:00</th>\n",
       "      <td>123.0</td>\n",
       "      <td>123</td>\n",
       "      <td>123</td>\n",
       "    </tr>\n",
       "    <tr>\n",
       "      <th>2011-10-05 10:47:00</th>\n",
       "      <td>464.0</td>\n",
       "      <td>Quentin</td>\n",
       "      <td>Wed</td>\n",
       "    </tr>\n",
       "    <tr>\n",
       "      <th>2011-10-05 13:15:00</th>\n",
       "      <td>481.0</td>\n",
       "      <td>Quentin</td>\n",
       "      <td>Wed</td>\n",
       "    </tr>\n",
       "    <tr>\n",
       "      <th>2011-10-06 00:00:00</th>\n",
       "      <td>123.0</td>\n",
       "      <td>123</td>\n",
       "      <td>123</td>\n",
       "    </tr>\n",
       "    <tr>\n",
       "      <th>2011-10-06 07:21:00</th>\n",
       "      <td>503.0</td>\n",
       "      <td>Anthony</td>\n",
       "      <td>Thu</td>\n",
       "    </tr>\n",
       "    <tr>\n",
       "      <th>2011-10-06 10:04:00</th>\n",
       "      <td>513.0</td>\n",
       "      <td>Quentin</td>\n",
       "      <td>Thu</td>\n",
       "    </tr>\n",
       "  </tbody>\n",
       "</table>\n",
       "</div>"
      ],
      "text/plain": [
       "                     coffees contributor weekdays\n",
       "2011-10-03 00:00:00    123.0         123      123\n",
       "2011-10-03 08:22:00    397.0     Quentin      Mon\n",
       "2011-10-04 00:00:00    123.0         123      123\n",
       "2011-10-04 11:48:00    410.0     Quentin      Tue\n",
       "2011-10-05 00:00:00    123.0         123      123\n",
       "2011-10-05 10:47:00    464.0     Quentin      Wed\n",
       "2011-10-05 13:15:00    481.0     Quentin      Wed\n",
       "2011-10-06 00:00:00    123.0         123      123\n",
       "2011-10-06 07:21:00    503.0     Anthony      Thu\n",
       "2011-10-06 10:04:00    513.0     Quentin      Thu"
      ]
     },
     "execution_count": 411,
     "metadata": {},
     "output_type": "execute_result"
    }
   ],
   "source": [
    "# .reindex() the dataframe\n",
    "upsampled_data = data.reindex(new_index)\n",
    "upsampled_data.head(10)\n",
    "# .fillna()\n",
    "upsampled_data.fillna(123).head(10)"
   ]
  },
  {
   "cell_type": "code",
   "execution_count": 412,
   "metadata": {},
   "outputs": [
    {
     "name": "stdout",
     "output_type": "stream",
     "text": [
      "                     coffees contributor weekdays\n",
      "2011-10-03 00:00:00      NaN         NaN      NaN\n",
      "2011-10-03 08:22:00    397.0     Quentin      Mon\n",
      "2011-10-04 00:00:00    410.0         NaN      NaN\n",
      "2011-10-04 11:48:00    410.0     Quentin      Tue\n",
      "2011-10-05 00:00:00    464.0         NaN      NaN\n",
      "2011-10-05 10:47:00    464.0     Quentin      Wed\n",
      "2011-10-05 13:15:00    481.0     Quentin      Wed\n",
      "2011-10-06 00:00:00    503.0         NaN      NaN\n",
      "2011-10-06 07:21:00    503.0     Anthony      Thu\n",
      "2011-10-06 10:04:00    513.0     Quentin      Thu\n"
     ]
    },
    {
     "data": {
      "text/html": [
       "<div>\n",
       "<style scoped>\n",
       "    .dataframe tbody tr th:only-of-type {\n",
       "        vertical-align: middle;\n",
       "    }\n",
       "\n",
       "    .dataframe tbody tr th {\n",
       "        vertical-align: top;\n",
       "    }\n",
       "\n",
       "    .dataframe thead th {\n",
       "        text-align: right;\n",
       "    }\n",
       "</style>\n",
       "<table border=\"1\" class=\"dataframe\">\n",
       "  <thead>\n",
       "    <tr style=\"text-align: right;\">\n",
       "      <th></th>\n",
       "      <th>coffees</th>\n",
       "      <th>contributor</th>\n",
       "      <th>weekdays</th>\n",
       "    </tr>\n",
       "  </thead>\n",
       "  <tbody>\n",
       "    <tr>\n",
       "      <th>2011-10-03 00:00:00</th>\n",
       "      <td>NaN</td>\n",
       "      <td>NaN</td>\n",
       "      <td>NaN</td>\n",
       "    </tr>\n",
       "    <tr>\n",
       "      <th>2011-10-03 08:22:00</th>\n",
       "      <td>397.000000</td>\n",
       "      <td>Quentin</td>\n",
       "      <td>Mon</td>\n",
       "    </tr>\n",
       "    <tr>\n",
       "      <th>2011-10-04 00:00:00</th>\n",
       "      <td>404.408262</td>\n",
       "      <td>NaN</td>\n",
       "      <td>NaN</td>\n",
       "    </tr>\n",
       "    <tr>\n",
       "      <th>2011-10-04 11:48:00</th>\n",
       "      <td>410.000000</td>\n",
       "      <td>Quentin</td>\n",
       "      <td>Tue</td>\n",
       "    </tr>\n",
       "    <tr>\n",
       "      <th>2011-10-05 00:00:00</th>\n",
       "      <td>438.664249</td>\n",
       "      <td>NaN</td>\n",
       "      <td>NaN</td>\n",
       "    </tr>\n",
       "    <tr>\n",
       "      <th>2011-10-05 10:47:00</th>\n",
       "      <td>464.000000</td>\n",
       "      <td>Quentin</td>\n",
       "      <td>Wed</td>\n",
       "    </tr>\n",
       "    <tr>\n",
       "      <th>2011-10-05 13:15:00</th>\n",
       "      <td>481.000000</td>\n",
       "      <td>Quentin</td>\n",
       "      <td>Wed</td>\n",
       "    </tr>\n",
       "    <tr>\n",
       "      <th>2011-10-06 00:00:00</th>\n",
       "      <td>494.066298</td>\n",
       "      <td>NaN</td>\n",
       "      <td>NaN</td>\n",
       "    </tr>\n",
       "  </tbody>\n",
       "</table>\n",
       "</div>"
      ],
      "text/plain": [
       "                        coffees contributor weekdays\n",
       "2011-10-03 00:00:00         NaN         NaN      NaN\n",
       "2011-10-03 08:22:00  397.000000     Quentin      Mon\n",
       "2011-10-04 00:00:00  404.408262         NaN      NaN\n",
       "2011-10-04 11:48:00  410.000000     Quentin      Tue\n",
       "2011-10-05 00:00:00  438.664249         NaN      NaN\n",
       "2011-10-05 10:47:00  464.000000     Quentin      Wed\n",
       "2011-10-05 13:15:00  481.000000     Quentin      Wed\n",
       "2011-10-06 00:00:00  494.066298         NaN      NaN"
      ]
     },
     "execution_count": 412,
     "metadata": {},
     "output_type": "execute_result"
    }
   ],
   "source": [
    "# fill in NaN using interpolation\n",
    "print(upsampled_data.interpolate(method='nearest').head(10))\n",
    "upsampled_data = upsampled_data.interpolate(method='time')\n",
    "upsampled_data.head(8)"
   ]
  },
  {
   "cell_type": "code",
   "execution_count": 413,
   "metadata": {},
   "outputs": [
    {
     "name": "stdout",
     "output_type": "stream",
     "text": [
      "<class 'pandas.core.resample.DatetimeIndexResampler'>\n",
      "               coffees contributor weekdays\n",
      "2011-10-03         NaN         NaN      NaN\n",
      "2011-10-04  404.408262         NaN      NaN\n",
      "2011-10-05  438.664249         NaN      NaN\n",
      "2011-10-06  494.066298         NaN      NaN\n",
      "2011-10-07  572.844311         NaN      NaN\n",
      "2011-10-08  637.237253         NaN      NaN\n",
      "2011-10-09  644.729448         NaN      NaN\n",
      "2011-10-10  652.924658         NaN      NaN\n",
      "2011-10-11  734.573206         NaN      NaN\n",
      "2011-10-12  780.924214         NaN      NaN\n"
     ]
    }
   ],
   "source": [
    "# .resample() followed by .asfreq()\n",
    "# .resample() is alike groupby\n",
    "#help(upsampled_data.resample('D')) # like group by day\n",
    "daily_data = upsampled_data.resample('D')\n",
    "print(type(daily_data)) # pandas.core.resample.DatetimeIndexResampler\n",
    "\n",
    "# .mean() gives mean value of each groups\n",
    "daily_data.mean().head()\n",
    "# .count() gives count of each groups\n",
    "daily_data.count().head()\n",
    "\n",
    "# DatetimeIndexResampler.asfreq() returns values at the new freq\n",
    "# meaning the specific values at the exact freq location\n",
    "print(daily_data.asfreq().head(10))\n",
    "# only take the midnights data\n",
    "daily_data = daily_data.asfreq()"
   ]
  },
  {
   "cell_type": "code",
   "execution_count": 414,
   "metadata": {},
   "outputs": [
    {
     "data": {
      "text/html": [
       "<div>\n",
       "<style scoped>\n",
       "    .dataframe tbody tr th:only-of-type {\n",
       "        vertical-align: middle;\n",
       "    }\n",
       "\n",
       "    .dataframe tbody tr th {\n",
       "        vertical-align: top;\n",
       "    }\n",
       "\n",
       "    .dataframe thead th {\n",
       "        text-align: right;\n",
       "    }\n",
       "</style>\n",
       "<table border=\"1\" class=\"dataframe\">\n",
       "  <thead>\n",
       "    <tr style=\"text-align: right;\">\n",
       "      <th></th>\n",
       "      <th>coffees</th>\n",
       "      <th>weekdays</th>\n",
       "    </tr>\n",
       "  </thead>\n",
       "  <tbody>\n",
       "    <tr>\n",
       "      <th>2011-10-03</th>\n",
       "      <td>NaN</td>\n",
       "      <td>NaN</td>\n",
       "    </tr>\n",
       "    <tr>\n",
       "      <th>2011-10-04</th>\n",
       "      <td>404.408262</td>\n",
       "      <td>NaN</td>\n",
       "    </tr>\n",
       "    <tr>\n",
       "      <th>2011-10-05</th>\n",
       "      <td>438.664249</td>\n",
       "      <td>NaN</td>\n",
       "    </tr>\n",
       "    <tr>\n",
       "      <th>2011-10-06</th>\n",
       "      <td>494.066298</td>\n",
       "      <td>NaN</td>\n",
       "    </tr>\n",
       "    <tr>\n",
       "      <th>2011-10-07</th>\n",
       "      <td>572.844311</td>\n",
       "      <td>NaN</td>\n",
       "    </tr>\n",
       "    <tr>\n",
       "      <th>2011-10-08</th>\n",
       "      <td>637.237253</td>\n",
       "      <td>NaN</td>\n",
       "    </tr>\n",
       "    <tr>\n",
       "      <th>2011-10-09</th>\n",
       "      <td>644.729448</td>\n",
       "      <td>NaN</td>\n",
       "    </tr>\n",
       "    <tr>\n",
       "      <th>2011-10-10</th>\n",
       "      <td>652.924658</td>\n",
       "      <td>NaN</td>\n",
       "    </tr>\n",
       "    <tr>\n",
       "      <th>2011-10-11</th>\n",
       "      <td>734.573206</td>\n",
       "      <td>NaN</td>\n",
       "    </tr>\n",
       "    <tr>\n",
       "      <th>2011-10-12</th>\n",
       "      <td>780.924214</td>\n",
       "      <td>NaN</td>\n",
       "    </tr>\n",
       "  </tbody>\n",
       "</table>\n",
       "</div>"
      ],
      "text/plain": [
       "               coffees weekdays\n",
       "2011-10-03         NaN      NaN\n",
       "2011-10-04  404.408262      NaN\n",
       "2011-10-05  438.664249      NaN\n",
       "2011-10-06  494.066298      NaN\n",
       "2011-10-07  572.844311      NaN\n",
       "2011-10-08  637.237253      NaN\n",
       "2011-10-09  644.729448      NaN\n",
       "2011-10-10  652.924658      NaN\n",
       "2011-10-11  734.573206      NaN\n",
       "2011-10-12  780.924214      NaN"
      ]
     },
     "execution_count": 414,
     "metadata": {},
     "output_type": "execute_result"
    }
   ],
   "source": [
    "# .drop() contributor column\n",
    "type(daily_data.drop(['contributor'], axis=1, inplace=True))\n",
    "daily_data.head(10)"
   ]
  },
  {
   "cell_type": "code",
   "execution_count": 415,
   "metadata": {},
   "outputs": [
    {
     "name": "stdout",
     "output_type": "stream",
     "text": [
      "DatetimeIndex(['2011-10-03', '2011-10-04', '2011-10-05', '2011-10-06',\n",
      "               '2011-10-07', '2011-10-08', '2011-10-09', '2011-10-10',\n",
      "               '2011-10-11', '2011-10-12',\n",
      "               ...\n",
      "               '2013-09-04', '2013-09-05', '2013-09-06', '2013-09-07',\n",
      "               '2013-09-08', '2013-09-09', '2013-09-10', '2013-09-11',\n",
      "               '2013-09-12', '2013-09-13'],\n",
      "              dtype='datetime64[ns]', length=712, freq='D')\n",
      "Index(['Monday', 'Tuesday', 'Wednesday', 'Thursday', 'Friday', 'Saturday',\n",
      "       'Sunday', 'Monday', 'Tuesday', 'Wednesday',\n",
      "       ...\n",
      "       'Wednesday', 'Thursday', 'Friday', 'Saturday', 'Sunday', 'Monday',\n",
      "       'Tuesday', 'Wednesday', 'Thursday', 'Friday'],\n",
      "      dtype='object', length=712)\n",
      "               coffees weekdays\n",
      "2011-10-03         NaN      NaN\n",
      "2011-10-04  404.408262      NaN\n",
      "2011-10-05  438.664249      NaN\n",
      "2011-10-06  494.066298      NaN\n",
      "2011-10-07  572.844311      NaN\n",
      "               coffees   weekdays\n",
      "2011-10-03         NaN     Monday\n",
      "2011-10-04  404.408262    Tuesday\n",
      "2011-10-05  438.664249  Wednesday\n",
      "2011-10-06  494.066298   Thursday\n",
      "2011-10-07  572.844311     Friday\n"
     ]
    },
    {
     "data": {
      "text/plain": [
       "<matplotlib.axes._subplots.AxesSubplot at 0x26fe67d9fd0>"
      ]
     },
     "execution_count": 415,
     "metadata": {},
     "output_type": "execute_result"
    },
    {
     "data": {
      "image/png": "[encoded data removed]",
      "text/plain": [
       "<Figure size 432x288 with 1 Axes>"
      ]
     },
     "metadata": {},
     "output_type": "display_data"
    }
   ],
   "source": [
    "# generate a column of weekday names\n",
    "print(daily_data.index)\n",
    "print(daily_data.index.weekday_name)\n",
    "print(daily_data.head())\n",
    "daily_data['weekdays'] = daily_data.index.weekday_name\n",
    "print(daily_data.head())\n",
    "daily_data.plot(style='.-')\n",
    "#daily_data['weekdays'] = daily_date.index"
   ]
  },
  {
   "cell_type": "code",
   "execution_count": 416,
   "metadata": {},
   "outputs": [
    {
     "name": "stdout",
     "output_type": "stream",
     "text": [
      "2011-10-03           NaN\n",
      "2011-10-04    404.408262\n",
      "2011-10-05    438.664249\n",
      "2011-10-06    494.066298\n",
      "2011-10-07    572.844311\n",
      "Freq: D, Name: coffees, dtype: float64\n",
      "2011-10-03          NaN\n",
      "2011-10-04          NaN\n",
      "2011-10-05    34.255987\n",
      "2011-10-06    55.402049\n",
      "2011-10-07    78.778013\n",
      "Freq: D, Name: coffees, dtype: float64\n",
      "2011-10-03          NaN\n",
      "2011-10-04    34.255987\n",
      "2011-10-05    55.402049\n",
      "2011-10-06    78.778013\n",
      "2011-10-07    64.392941\n",
      "Freq: D, Name: coffees, dtype: float64\n"
     ]
    }
   ],
   "source": [
    "# .diff() on the coffees column, follow up with .shift()\n",
    "print(daily_data.coffees.head())\n",
    "coffees_made = daily_data.coffees.diff()\n",
    "print(coffees_made.head())\n",
    "coffees_made = daily_data.coffees.diff().shift(-1)\n",
    "print(coffees_made.head())\n",
    "\n",
    "# add as a new column\n",
    "daily_data['coffee_made_today'] = coffees_made"
   ]
  },
  {
   "cell_type": "code",
   "execution_count": 417,
   "metadata": {},
   "outputs": [
    {
     "name": "stdout",
     "output_type": "stream",
     "text": [
      "<pandas.core.groupby.groupby.DataFrameGroupBy object at 0x0000026FE906AEF0>\n",
      "['Mon', 'Tue', 'Wed', 'Thu', 'Fri', 'Sat', 'Sun']\n",
      "               coffees weekdays  coffee_made_today\n",
      "2011-10-03         NaN      Mon                NaN\n",
      "2011-10-04  404.408262      Tue          34.255987\n",
      "2011-10-05  438.664249      Wed          55.402049\n",
      "2011-10-06  494.066298      Thu          78.778013\n",
      "2011-10-07  572.844311      Fri          64.392941\n"
     ]
    },
    {
     "data": {
      "text/plain": [
       "<matplotlib.axes._subplots.AxesSubplot at 0x26fe933f2e8>"
      ]
     },
     "execution_count": 417,
     "metadata": {},
     "output_type": "execute_result"
    },
    {
     "data": {
      "image/png": "[encoded data removed]",
      "text/plain": [
       "<Figure size 432x288 with 1 Axes>"
      ]
     },
     "metadata": {},
     "output_type": "display_data"
    }
   ],
   "source": [
    "# .groupby 'weekdays', take the mean\n",
    "print(daily_data.groupby('weekdays'))\n",
    "print([wd[:3] for wd in weekday_names])\n",
    "# trim the 'weekdays'\n",
    "daily_data['weekdays'] = daily_data['weekdays'].apply(lambda x: x[:3])\n",
    "\n",
    "coffees_by_day = daily_data.groupby('weekdays').mean()\n",
    "print(daily_data.head())\n",
    "\n",
    "coffees_by_day = coffees_by_day.loc[weekday_names]\n",
    "coffees_by_day.coffee_made_today.plot(kind='bar')"
   ]
  },
  {
   "cell_type": "code",
   "execution_count": 421,
   "metadata": {},
   "outputs": [
    {
     "name": "stdout",
     "output_type": "stream",
     "text": [
      "         date  members\n",
      "0  2011-08-31       12\n",
      "1  2011-09-30       14\n",
      "2  2011-10-31       14\n",
      "3  2011-11-30       14\n",
      "4  2011-12-31       15\n",
      "                        coffees weekdays  coffee_made_today date  members\n",
      "2011-10-03 00:00:00         NaN      Mon                NaN  NaN      NaN\n",
      "2011-10-04 00:00:00  404.408262      Tue          34.255987  NaN      NaN\n",
      "2011-10-05 00:00:00  438.664249      Wed          55.402049  NaN      NaN\n",
      "2011-10-06 00:00:00  494.066298      Thu          78.778013  NaN      NaN\n",
      "2011-10-07 00:00:00  572.844311      Fri          64.392941  NaN      NaN\n",
      "            members\n",
      "date               \n",
      "2011-08-31       12\n",
      "2011-09-30       14\n",
      "2011-10-31       14\n",
      "2011-11-30       14\n",
      "2011-12-31       15\n",
      "               coffees weekdays  coffee_made_today  members\n",
      "2011-08-31         NaN      NaN                NaN     12.0\n",
      "2011-09-30         NaN      NaN                NaN     14.0\n",
      "2011-10-03         NaN      Mon                NaN      NaN\n",
      "2011-10-04  404.408262      Tue          34.255987      NaN\n",
      "2011-10-05  438.664249      Wed          55.402049      NaN\n",
      "2011-10-06  494.066298      Thu          78.778013      NaN\n",
      "2011-10-07  572.844311      Fri          64.392941      NaN\n",
      "2011-10-08  637.237253      Sat           7.492196      NaN\n",
      "2011-10-09  644.729448      Sun           8.195209      NaN\n",
      "2011-10-10  652.924658      Mon          81.648549      NaN\n"
     ]
    }
   ],
   "source": [
    "# pull in data on how many people were in the department\n",
    "# bring in data/department_members.csv\n",
    "# have the first column be the index, and parse the dates\n",
    "people = pd.read_csv('data/department_members.csv')\n",
    "print(people.head())\n",
    "print(daily_data.join(people, how='outer').head())\n",
    "\n",
    "# use @date column as index\n",
    "people = pd.read_csv('data/department_members.csv', index_col='date', parse_dates=True)\n",
    "print(people.head())\n",
    "print(daily_data.join(people, how='outer').head(10))\n"
   ]
  },
  {
   "cell_type": "code",
   "execution_count": null,
   "metadata": {},
   "outputs": [],
   "source": []
  }
 ],
 "metadata": {
  "kernelspec": {
   "display_name": "Python 3",
   "language": "python",
   "name": "python3"
  },
  "language_info": {
   "codemirror_mode": {
    "name": "ipython",
    "version": 3
   },
   "file_extension": ".py",
   "mimetype": "text/x-python",
   "name": "python",
   "nbconvert_exporter": "python",
   "pygments_lexer": "ipython3",
   "version": "3.6.5"
  }
 },
 "nbformat": 4,
 "nbformat_minor": 2
}
